{
 "cells": [
  {
   "cell_type": "code",
   "execution_count": 1,
   "id": "f9871fee",
   "metadata": {},
   "outputs": [
    {
     "name": "stdout",
     "output_type": "stream",
     "text": [
      "Requirement already satisfied: cryptography in c:\\users\\manny-uncharted\\envs\\ai-as-api\\lib\\site-packages (41.0.2)\n",
      "Requirement already satisfied: cffi>=1.12 in c:\\users\\manny-uncharted\\envs\\ai-as-api\\lib\\site-packages (from cryptography) (1.15.1)\n",
      "Requirement already satisfied: pycparser in c:\\users\\manny-uncharted\\envs\\ai-as-api\\lib\\site-packages (from cffi>=1.12->cryptography) (2.21)\n"
     ]
    }
   ],
   "source": [
    "!pip install cryptography"
   ]
  },
  {
   "cell_type": "code",
   "execution_count": 2,
   "id": "1d67f2ce",
   "metadata": {},
   "outputs": [],
   "source": [
    "from cryptography.fernet import Fernet"
   ]
  },
  {
   "cell_type": "code",
   "execution_count": 3,
   "id": "1828eeb8",
   "metadata": {},
   "outputs": [
    {
     "name": "stdout",
     "output_type": "stream",
     "text": [
      "BZZWQon8f8mGfeFJn6C1-4vXHpJhtxSP-O682PPVmWY=\n"
     ]
    }
   ],
   "source": [
    "def generate_key():\n",
    "    return Fernet.generate_key().decode(\"UTF-8\")"
   ]
  },
  {
   "cell_type": "code",
   "execution_count": null,
   "id": "c5cc580e",
   "metadata": {},
   "outputs": [],
   "source": []
  },
  {
   "cell_type": "code",
   "execution_count": 5,
   "id": "48d16a47",
   "metadata": {},
   "outputs": [],
   "source": [
    "import os"
   ]
  },
  {
   "cell_type": "code",
   "execution_count": 6,
   "id": "9c07abb3",
   "metadata": {},
   "outputs": [],
   "source": [
    "ENCRYPTION_KEY = os.environ.get(\"ENCRYPTION_KEY\")"
   ]
  },
  {
   "cell_type": "code",
   "execution_count": 13,
   "id": "4ea8e3c4",
   "metadata": {},
   "outputs": [],
   "source": [
    "import pathlib"
   ]
  },
  {
   "cell_type": "code",
   "execution_count": 14,
   "id": "2ad46533",
   "metadata": {},
   "outputs": [
    {
     "data": {
      "text/plain": [
       "True"
      ]
     },
     "execution_count": 14,
     "metadata": {},
     "output_type": "execute_result"
    }
   ],
   "source": [
    "BASE_DIR = pathlib.Path().resolve().parent\n",
    "BASE_DIR.exists()"
   ]
  },
  {
   "cell_type": "code",
   "execution_count": 15,
   "id": "f42367d4",
   "metadata": {},
   "outputs": [
    {
     "data": {
      "text/plain": [
       "True"
      ]
     },
     "execution_count": 15,
     "metadata": {},
     "output_type": "execute_result"
    }
   ],
   "source": [
    "APP_DIR = BASE_DIR / \"app\"\n",
    "APP_DIR.exists()"
   ]
  },
  {
   "cell_type": "code",
   "execution_count": 16,
   "id": "6a910323",
   "metadata": {},
   "outputs": [
    {
     "data": {
      "text/plain": [
       "True"
      ]
     },
     "execution_count": 16,
     "metadata": {},
     "output_type": "execute_result"
    }
   ],
   "source": [
    "IGNORED_DIR = APP_DIR / \"ignored\"\n",
    "IGNORED_DIR.exists()"
   ]
  },
  {
   "cell_type": "code",
   "execution_count": 20,
   "id": "914947c2",
   "metadata": {},
   "outputs": [],
   "source": [
    "SECURE_DIR = APP_DIR / \"encrypted\"\n",
    "DECRYPTED_DIR = APP_DIR / \"decrypted\"\n",
    "SECURE_DIR.mkdir(exist_ok=True, parents=True)\n",
    "DECRYPTED_DIR.mkdir(exist_ok=True, parents=True)"
   ]
  },
  {
   "cell_type": "code",
   "execution_count": 21,
   "id": "7d214af8",
   "metadata": {},
   "outputs": [],
   "source": [
    "fer = Fernet(key)"
   ]
  },
  {
   "cell_type": "code",
   "execution_count": 22,
   "id": "c8f25527",
   "metadata": {},
   "outputs": [],
   "source": [
    "for path in IGNORED_DIR.glob(\"*\"):\n",
    "    _path_bytes = path.read_bytes()\n",
    "    data = fer.encrypt(_path_bytes)\n",
    "    rel_path = path.relative_to(IGNORED_DIR)\n",
    "    dest_path = SECURE_DIR / rel_path\n",
    "    dest_path.write_bytes(data)"
   ]
  },
  {
   "cell_type": "code",
   "execution_count": 23,
   "id": "d22ea77c",
   "metadata": {},
   "outputs": [],
   "source": [
    "for path in SECURE_DIR.glob(\"*\"):\n",
    "    _path_bytes = path.read_bytes()\n",
    "    data = fer.decrypt(_path_bytes)\n",
    "    rel_path = path.relative_to(SECURE_DIR)\n",
    "    dest_path = DECRYPTED_DIR / rel_path\n",
    "    dest_path.write_bytes(data)"
   ]
  },
  {
   "cell_type": "code",
   "execution_count": null,
   "id": "72713ba8",
   "metadata": {},
   "outputs": [],
   "source": []
  },
  {
   "cell_type": "code",
   "execution_count": null,
   "id": "20e3f441",
   "metadata": {},
   "outputs": [],
   "source": []
  },
  {
   "cell_type": "code",
   "execution_count": null,
   "id": "55451754",
   "metadata": {},
   "outputs": [],
   "source": []
  },
  {
   "cell_type": "code",
   "execution_count": null,
   "id": "c2490a0d",
   "metadata": {},
   "outputs": [],
   "source": []
  },
  {
   "cell_type": "code",
   "execution_count": null,
   "id": "2732c918",
   "metadata": {},
   "outputs": [],
   "source": []
  },
  {
   "cell_type": "code",
   "execution_count": null,
   "id": "c4332d7d",
   "metadata": {},
   "outputs": [],
   "source": []
  },
  {
   "cell_type": "code",
   "execution_count": null,
   "id": "ea478ca2",
   "metadata": {},
   "outputs": [],
   "source": []
  },
  {
   "cell_type": "code",
   "execution_count": null,
   "id": "a429ca5d",
   "metadata": {},
   "outputs": [],
   "source": []
  },
  {
   "cell_type": "code",
   "execution_count": null,
   "id": "2e0aecbd",
   "metadata": {},
   "outputs": [],
   "source": []
  },
  {
   "cell_type": "code",
   "execution_count": null,
   "id": "3171dc66",
   "metadata": {},
   "outputs": [],
   "source": []
  },
  {
   "cell_type": "code",
   "execution_count": null,
   "id": "03a08cfd",
   "metadata": {},
   "outputs": [],
   "source": []
  },
  {
   "cell_type": "code",
   "execution_count": null,
   "id": "b12d3e46",
   "metadata": {},
   "outputs": [],
   "source": []
  }
 ],
 "metadata": {
  "kernelspec": {
   "display_name": "Python 3 (ipykernel)",
   "language": "python",
   "name": "python3"
  },
  "language_info": {
   "codemirror_mode": {
    "name": "ipython",
    "version": 3
   },
   "file_extension": ".py",
   "mimetype": "text/x-python",
   "name": "python",
   "nbconvert_exporter": "python",
   "pygments_lexer": "ipython3",
   "version": "3.10.4"
  }
 },
 "nbformat": 4,
 "nbformat_minor": 5
}
